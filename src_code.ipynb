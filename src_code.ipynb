{
 "cells": [
  {
   "cell_type": "markdown",
   "metadata": {},
   "source": [
    "# Proyecto Final - Text Mining"
   ]
  },
  {
   "cell_type": "markdown",
   "metadata": {},
   "source": [
    "- Autor: Fernando José Sagastume Cerna\n",
    "- Carnet: 17004989\n",
    "- Sección: U"
   ]
  },
  {
   "cell_type": "markdown",
   "metadata": {},
   "source": [
    "El objetivo General de este proyecto es tomar la narración de un partido de soccer, extraer el script y hacer una estimación de las estadisticas del partido."
   ]
  },
  {
   "cell_type": "markdown",
   "metadata": {},
   "source": [
    "## Metodología o estrategia"
   ]
  },
  {
   "cell_type": "markdown",
   "metadata": {},
   "source": [
    "1. **Recolección de datos:** recopilar narraciones detalladas de partidos de fútbol en un formato estructurado, como texto plano o en un formato específico. Además asegurar de tener los datos completos de los eventos claves del partido (goles, tarjetas, etc).\n",
    "2. **Análisis de Texto y Extracción de Información:** analizar el texto por medio de NLP, identificar patrones en el texto (nombres de equipos, eventos, etc), categorizar y estructurar los eventos.\n",
    "3. **Creación de la Estructura del Guion:** crear una estructura para representar los eventos en forma de un guió, agrupar eventos por periodo (tiempos) y por tipo (goles, tiros, etc), y asociar eventos con información relevante.\n",
    "4. **Estimación de Estadísticas del Partido:** utilizar el guión para realizar estimaciones de estadísticas por medio de algoritmos basados en el guión.\n",
    "5. **Validación y Ajuste:** comparar las estimaciones con las estadísticas reales, y ajustar el alogritmo para mejorar los resultados.\n",
    "6. **Visualización de Resultados:** presentación de las estadísticas estimadas."
   ]
  }
 ],
 "metadata": {
  "kernelspec": {
   "display_name": "base",
   "language": "python",
   "name": "python3"
  },
  "language_info": {
   "name": "python",
   "version": "3.9.13"
  },
  "orig_nbformat": 4
 },
 "nbformat": 4,
 "nbformat_minor": 2
}
